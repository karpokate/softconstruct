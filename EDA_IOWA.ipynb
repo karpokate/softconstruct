{
  "nbformat": 4,
  "nbformat_minor": 0,
  "metadata": {
    "colab": {
      "name": "EDA_IOWA.ipynb",
      "provenance": [],
      "authorship_tag": "ABX9TyMPUBzH+zB3HeP7iRCXMr7Y",
      "include_colab_link": true
    },
    "kernelspec": {
      "name": "python3",
      "display_name": "Python 3"
    }
  },
  "cells": [
    {
      "cell_type": "markdown",
      "metadata": {
        "id": "view-in-github",
        "colab_type": "text"
      },
      "source": [
        "<a href=\"https://colab.research.google.com/github/karpokate/softconstruct/blob/stage/EDA_IOWA.ipynb\" target=\"_parent\"><img src=\"https://colab.research.google.com/assets/colab-badge.svg\" alt=\"Open In Colab\"/></a>"
      ]
    },
    {
      "cell_type": "markdown",
      "metadata": {
        "id": "1Ddl686WSH0J"
      },
      "source": [
        "## Authentication with google "
      ]
    },
    {
      "cell_type": "code",
      "metadata": {
        "colab": {
          "base_uri": "https://localhost:8080/"
        },
        "id": "tefDFumNVTE4",
        "outputId": "bcdd7e08-33f6-48d4-db66-7bc91162f4c8"
      },
      "source": [
        "from google.colab import auth\n",
        "auth.authenticate_user()\n",
        "print('Authenticated')"
      ],
      "execution_count": null,
      "outputs": [
        {
          "output_type": "stream",
          "text": [
            "Authenticated\n"
          ],
          "name": "stdout"
        }
      ]
    },
    {
      "cell_type": "code",
      "metadata": {
        "id": "1wMIFxfDVWGY"
      },
      "source": [
        "project_id = 'softconstructtask'"
      ],
      "execution_count": null,
      "outputs": []
    },
    {
      "cell_type": "markdown",
      "metadata": {
        "id": "RX-Ci58SSPF8"
      },
      "source": [
        "Import packages \n",
        "connect ot bigquery client"
      ]
    },
    {
      "cell_type": "code",
      "metadata": {
        "id": "I0mYhr3wVpdh"
      },
      "source": [
        "from google.cloud import bigquery\n",
        "import numpy as np\n",
        "import pandas as pd\n",
        "import plotnine as pn\n",
        "import threading\n",
        "import time\n",
        "\n",
        "client = bigquery.Client(project = project_id)"
      ],
      "execution_count": null,
      "outputs": []
    },
    {
      "cell_type": "markdown",
      "metadata": {
        "id": "ylWGhiomVieZ"
      },
      "source": [
        "## sales by country in liters and dollars"
      ]
    },
    {
      "cell_type": "code",
      "metadata": {
        "id": "_btX3pvPVy6n"
      },
      "source": [
        "country_sales_query = \"\"\"\n",
        "-- продажи по странам \n",
        "select cast(county_number as NUMERIC) as country_code, lower(county) as county,lower(city) as city,\n",
        "sum(sale_dollars) as sum_sales, sum(volume_sold_liters) as sum_sold_liters\n",
        "from `bigquery-public-data.iowa_liquor_sales.sales`\n",
        "group by county_number, county, city\n",
        "\"\"\"\n",
        "\n",
        "country_sales = client.query(country_sales_query).to_dataframe()"
      ],
      "execution_count": null,
      "outputs": []
    },
    {
      "cell_type": "code",
      "metadata": {
        "colab": {
          "base_uri": "https://localhost:8080/",
          "height": 424
        },
        "id": "sGcDhBKyWR6y",
        "outputId": "87f9a6aa-fabc-4b52-bb5e-8740f1c0153e"
      },
      "source": [
        "country_sales[['country_code','county','city']]"
      ],
      "execution_count": null,
      "outputs": [
        {
          "output_type": "execute_result",
          "data": {
            "text/html": [
              "<div>\n",
              "<style scoped>\n",
              "    .dataframe tbody tr th:only-of-type {\n",
              "        vertical-align: middle;\n",
              "    }\n",
              "\n",
              "    .dataframe tbody tr th {\n",
              "        vertical-align: top;\n",
              "    }\n",
              "\n",
              "    .dataframe thead th {\n",
              "        text-align: right;\n",
              "    }\n",
              "</style>\n",
              "<table border=\"1\" class=\"dataframe\">\n",
              "  <thead>\n",
              "    <tr style=\"text-align: right;\">\n",
              "      <th></th>\n",
              "      <th>country_code</th>\n",
              "      <th>county</th>\n",
              "      <th>city</th>\n",
              "    </tr>\n",
              "  </thead>\n",
              "  <tbody>\n",
              "    <tr>\n",
              "      <th>0</th>\n",
              "      <td>56</td>\n",
              "      <td>lee</td>\n",
              "      <td>donnellson</td>\n",
              "    </tr>\n",
              "    <tr>\n",
              "      <th>1</th>\n",
              "      <td>24</td>\n",
              "      <td>crawford</td>\n",
              "      <td>denison</td>\n",
              "    </tr>\n",
              "    <tr>\n",
              "      <th>2</th>\n",
              "      <td>3</td>\n",
              "      <td>allamakee</td>\n",
              "      <td>waukon</td>\n",
              "    </tr>\n",
              "    <tr>\n",
              "      <th>3</th>\n",
              "      <td>83</td>\n",
              "      <td>shelby</td>\n",
              "      <td>harlan</td>\n",
              "    </tr>\n",
              "    <tr>\n",
              "      <th>4</th>\n",
              "      <td>91</td>\n",
              "      <td>warren</td>\n",
              "      <td>indianola</td>\n",
              "    </tr>\n",
              "    <tr>\n",
              "      <th>...</th>\n",
              "      <td>...</td>\n",
              "      <td>...</td>\n",
              "      <td>...</td>\n",
              "    </tr>\n",
              "    <tr>\n",
              "      <th>626</th>\n",
              "      <td>None</td>\n",
              "      <td>None</td>\n",
              "      <td>alburnett</td>\n",
              "    </tr>\n",
              "    <tr>\n",
              "      <th>627</th>\n",
              "      <td>None</td>\n",
              "      <td>None</td>\n",
              "      <td>carter lake</td>\n",
              "    </tr>\n",
              "    <tr>\n",
              "      <th>628</th>\n",
              "      <td>53</td>\n",
              "      <td>jones</td>\n",
              "      <td>wyoming</td>\n",
              "    </tr>\n",
              "    <tr>\n",
              "      <th>629</th>\n",
              "      <td>60</td>\n",
              "      <td>lyon</td>\n",
              "      <td>alvord</td>\n",
              "    </tr>\n",
              "    <tr>\n",
              "      <th>630</th>\n",
              "      <td>None</td>\n",
              "      <td>el paso</td>\n",
              "      <td>colorado springs</td>\n",
              "    </tr>\n",
              "  </tbody>\n",
              "</table>\n",
              "<p>631 rows × 3 columns</p>\n",
              "</div>"
            ],
            "text/plain": [
              "    country_code     county              city\n",
              "0             56        lee        donnellson\n",
              "1             24   crawford           denison\n",
              "2              3  allamakee            waukon\n",
              "3             83     shelby            harlan\n",
              "4             91     warren         indianola\n",
              "..           ...        ...               ...\n",
              "626         None       None         alburnett\n",
              "627         None       None       carter lake\n",
              "628           53      jones           wyoming\n",
              "629           60       lyon            alvord\n",
              "630         None    el paso  colorado springs\n",
              "\n",
              "[631 rows x 3 columns]"
            ]
          },
          "metadata": {
            "tags": []
          },
          "execution_count": 19
        }
      ]
    },
    {
      "cell_type": "code",
      "metadata": {
        "id": "JSR3BSRlWqNF"
      },
      "source": [
        ""
      ],
      "execution_count": null,
      "outputs": []
    }
  ]
}